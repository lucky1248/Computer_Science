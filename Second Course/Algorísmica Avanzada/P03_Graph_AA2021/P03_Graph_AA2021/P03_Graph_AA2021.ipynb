{
 "cells": [
  {
   "cell_type": "markdown",
   "id": "db9ffd00",
   "metadata": {},
   "source": [
    "<div style=\"padding:30px; color: white; background-color: #0071CD\">\n",
    "<center>\n",
    "<img src=\"img/logoub.jpeg\"></img>\n",
    "<center>\n",
    "<h1>Algorísmica Avançada 2021</h1>\n",
    "<h2>Problemes 3 - Cicles, Camins i Circuits Eulerians</h2>\n",
    "</center>\n",
    "</div>"
   ]
  },
  {
   "cell_type": "code",
   "execution_count": null,
   "id": "63d5c3b9",
   "metadata": {},
   "outputs": [],
   "source": [
    "from IPython.core.display import display, HTML\n",
    "display(HTML(\"<style>.container { width:100% !important; }</style>\"))"
   ]
  },
  {
   "cell_type": "markdown",
   "id": "e95afec9",
   "metadata": {},
   "source": [
    "# Cicles"
   ]
  },
  {
   "cell_type": "markdown",
   "id": "6165164f",
   "metadata": {},
   "source": [
    "Donat un graf $G$, un __cicle__ és un conjunt de nodes de $G$ connectats per arestes formant una cadena tancada:\n",
    "<img src=\"https://upload.wikimedia.org/wikipedia/commons/f/f6/Undirected_6_cycle.svg\" alt=\"Cicle\" />"
   ]
  },
  {
   "cell_type": "markdown",
   "id": "5b69b085",
   "metadata": {},
   "source": [
    "<div class=\"alert alert-success\">\n",
    "<h1>Problema 1</h1>\n",
    "<p>\n",
    "    Implementeu un algorisme per a detectar si un graf conté, com a mínim, un cicle. <br>\n",
    "    Per a facilitar lleugerament el problema, suposarem que el graf té només <b>una component connexa</b>.\n",
    "</p>    \n",
    "        \n",
    "</div>"
   ]
  },
  {
   "cell_type": "code",
   "execution_count": null,
   "id": "be22c53a",
   "metadata": {},
   "outputs": [],
   "source": [
    "import networkx as nx\n",
    "from matplotlib import pyplot as plt\n",
    "\n",
    "def cycles(G):\n",
    "    # El teu codi aquí\n",
    "    return False"
   ]
  },
  {
   "cell_type": "code",
   "execution_count": null,
   "id": "c6778b7a",
   "metadata": {},
   "outputs": [],
   "source": [
    "G1 = nx.Graph()\n",
    "G1.add_edges_from(((1,2), (1,4), (2,1), (2,3), (4,3)))\n",
    "\n",
    "G2 = nx.Graph()\n",
    "G2.add_edges_from(((1,2), (1,3), (2,4), (2,5), (2,6), (3,7), (3,8)))\n",
    "\n",
    "G3 = nx.Graph()\n",
    "G3.add_edges_from(((1,2), (1,4), (2,1), (2,3), (4,3), (4,5), (3,5)))\n",
    "\n",
    "fig, axs = plt.subplots(1,3,figsize=(20,5))\n",
    "nx.draw(G1, with_labels=True, ax=axs[0])\n",
    "axs[0].set_title(f'Cicles: {cycles(G1)}')\n",
    "\n",
    "nx.draw(G2, with_labels=True, ax=axs[1])\n",
    "axs[1].set_title(f'Cicles: {cycles(G2)}')\n",
    "\n",
    "nx.draw(G3, with_labels=True, ax=axs[2])\n",
    "axs[2].set_title(f'Cicles: {cycles(G3)}')\n",
    "\n",
    "plt.show()"
   ]
  },
  {
   "cell_type": "markdown",
   "id": "693881f5",
   "metadata": {},
   "source": [
    "## Camís més curts entre totes les parelles de nodes\n",
    "\n",
    "<div class=\"alert alert-success\">\n",
    "<h1>Problema 2</h1>\n",
    "<p>\n",
    "    Donat un graf $G$ volem trobar el camí més curt entre totes les parelles dels seus nodes. Implementeu l'algorítme Floyd Warshall. Podeu trobar més informació sobre l'algoritme aquí:\n",
    "    <a href=\"https://en.wikipedia.org/wiki/Floyd%E2%80%93Warshall_algorithm\">Floyd Wharshall</a>\n",
    " <br></p>    \n",
    "\n",
    "        \n",
    "</div>\n"
   ]
  },
  {
   "cell_type": "code",
   "execution_count": null,
   "id": "0f90994f",
   "metadata": {},
   "outputs": [],
   "source": [
    "import numpy as np\n",
    "\n",
    "def floyd_wharsall(G):\n",
    "    # El teu codi aquí\n",
    "\n",
    "    return [],[] #retornem un matrix de tamany VxV, i un diccionari que en fa la referencia entre id2index"
   ]
  },
  {
   "cell_type": "code",
   "execution_count": null,
   "id": "08cd54a3",
   "metadata": {},
   "outputs": [],
   "source": [
    "G = nx.DiGraph()  # or DiGraph\n",
    "G.add_weighted_edges_from([(1, 3, -2), (2, 1, 4),\n",
    "                           (2, 3, 3),(4, 2, -1),(3, 4, 2)])\n",
    "\n",
    "\n",
    "pos = nx.random_layout(G) \n",
    "nx.draw_networkx(G,pos)\n",
    "labels = nx.get_edge_attributes(G,'weight')\n",
    "nx.draw_networkx_edge_labels(G,pos,edge_labels=labels)\n",
    "plt.show()\n",
    "\n",
    "dist, id2index = floyd_wharsall(G)\n",
    "print(dist[id2index[3],id2index[2]])"
   ]
  },
  {
   "cell_type": "markdown",
   "id": "1af66a35",
   "metadata": {},
   "source": [
    "## Camí Eulerià\n",
    "\n",
    "Un __camí eulerià__ d'un Graf $G$ és un camí de $G$ que passa una única vegada per cada aresta. El problema dels camins eulerians va ser la base de tota la teoria de grafs i va ser postulat per Lehonard Euler en el famós problema de __els set ponts de Königsberg__. En aquest problema Euler es preguntava si podia creuar tots els ponts una sola vegada.\n",
    "\n",
    "<table>\n",
    "    <tr>\n",
    "        <td>\n",
    "            <img src=\"https://upload.wikimedia.org/wikipedia/commons/5/5d/Konigsberg_bridges.png\" alt=\"Ponts de Konigsberg\" style=\"width:300px\"/>\n",
    "        </td>\n",
    "        <td>\n",
    "            <img src=\"https://upload.wikimedia.org/wikipedia/commons/9/96/K%C3%B6nigsberg_graph.svg\" alt=\"Ponts de Konigsberg\" style=\"width:300px\"/>\n",
    "        </td>\n",
    "    </tr>\n",
    "</table>"
   ]
  },
  {
   "cell_type": "markdown",
   "id": "e2c7ef79",
   "metadata": {},
   "source": [
    "<div class=\"alert alert-success\">\n",
    "<h1>Problema 3</h1>\n",
    "<p>\n",
    "    Implementeu un algorisme que trobi un camí eulerià, si existeix, per a un graf donat.\n",
    "</p>    \n",
    "        \n",
    "</div>"
   ]
  },
  {
   "cell_type": "code",
   "execution_count": null,
   "id": "10c5e662",
   "metadata": {},
   "outputs": [],
   "source": [
    "def euler_path(G):\n",
    "    # El teu codi aquí\n",
    "    return []"
   ]
  },
  {
   "cell_type": "markdown",
   "id": "e7b9fe6e",
   "metadata": {},
   "source": [
    "## Circuit Eulerià\n",
    "\n",
    "Un __circuit eulerià__ d'un graf $G$ és un camí de $G$ que passa una única vegada per cada aresta i que té com a inici i fi el mateix node. Observeu que tot circuit eulerià és també un camí eulerià."
   ]
  },
  {
   "cell_type": "markdown",
   "id": "d58bd6cf",
   "metadata": {},
   "source": [
    "<div class=\"alert alert-success\">\n",
    "<h1>Problema 4</h1>\n",
    "<p>\n",
    "    Implementeu un algorisme que trobi un circuit eulerià, si existeix, per a un graf donat.\n",
    "</p>    \n",
    "        \n",
    "</div>"
   ]
  },
  {
   "cell_type": "code",
   "execution_count": null,
   "id": "a4cf40e0",
   "metadata": {},
   "outputs": [],
   "source": [
    "def euler_circuit(G):\n",
    "    # El teu codi aquí\n",
    "    return []"
   ]
  },
  {
   "cell_type": "markdown",
   "id": "195895a7",
   "metadata": {},
   "source": [
    "<div class=\"alert alert-success\">\n",
    "<h1>Problema 5</h1>\n",
    "<p>\n",
    "    Modifiqueu el codi anterior per a que funcioni també per a grafs dirigits.\n",
    "</p>    \n",
    "        \n",
    "</div>"
   ]
  },
  {
   "cell_type": "code",
   "execution_count": null,
   "id": "617a28ca",
   "metadata": {},
   "outputs": [],
   "source": [
    "def euler_circuit_directed(G):\n",
    "    # El teu codi aquí\n",
    "    return []"
   ]
  },
  {
   "cell_type": "markdown",
   "id": "ca1b923c",
   "metadata": {},
   "source": [
    "<div class=\"alert alert-success\">\n",
    "<h1>Problema 6</h1>\n",
    "<p>\n",
    "    Considereu la següent planta d'un pis:\n",
    "    <img src='https://ssegui.github.io/algo2/classes/images/house.png' width=60% />\n",
    "</p>    \n",
    "    <ol>\n",
    "        <li> Existeix un camí que passi exactament un cop per cada porta? En cas afirmatiu, quin és el recorregut que hem de seguir?\n",
    "        <li> Existeix un camí que passi exactament un cop per cada porta començant i acabant a la mateixa habitació? En cas afirmatiu, quin és el recorregut que hem de seguir? A quines habitacions podem començar?\n",
    "        <li> Existeix un camí que visiti totes les habitacions un sol cop? (No hem de passar necessàriament per a totes les portes).\n",
    "    </ol>\n",
    "    \n",
    "Creeu un graf G utilitzant networkx que representi el plànol de la casa donat. Utilitzant les funcions dels exercicis anteriors, responeu a les preguntes.\n",
    "        \n",
    "</div>"
   ]
  },
  {
   "cell_type": "code",
   "execution_count": null,
   "id": "391b10df",
   "metadata": {},
   "outputs": [],
   "source": []
  }
 ],
 "metadata": {
  "kernelspec": {
   "display_name": "Python 3",
   "language": "python",
   "name": "python3"
  },
  "language_info": {
   "codemirror_mode": {
    "name": "ipython",
    "version": 3
   },
   "file_extension": ".py",
   "mimetype": "text/x-python",
   "name": "python",
   "nbconvert_exporter": "python",
   "pygments_lexer": "ipython3",
   "version": "3.8.8"
  }
 },
 "nbformat": 4,
 "nbformat_minor": 5
}
