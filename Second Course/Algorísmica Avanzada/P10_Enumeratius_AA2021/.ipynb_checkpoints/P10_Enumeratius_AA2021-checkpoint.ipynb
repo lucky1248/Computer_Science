{
 "cells": [
  {
   "cell_type": "markdown",
   "metadata": {},
   "source": [
    "<div style=\"padding:30px; color: white; background-color: #0071CD\">\n",
    "<center>\n",
    "<img src=\"img/logoub.jpeg\"></img>\n",
    "<center>\n",
    "<h1>Algorísmica Avançada 2021</h1>\n",
    "<h2>Problemes 9 - Enumeratius: Backtracking</h2>\n",
    "</center>\n",
    "</div>"
   ]
  },
  {
   "cell_type": "code",
   "execution_count": 1,
   "metadata": {},
   "outputs": [
    {
     "data": {
      "text/html": [
       "<style>.container { width:100% !important; }</style>"
      ],
      "text/plain": [
       "<IPython.core.display.HTML object>"
      ]
     },
     "metadata": {},
     "output_type": "display_data"
    }
   ],
   "source": [
    "from IPython.core.display import display, HTML\n",
    "display(HTML(\"<style>.container { width:100% !important; }</style>\"))"
   ]
  },
  {
   "cell_type": "code",
   "execution_count": 2,
   "metadata": {},
   "outputs": [],
   "source": [
    "import numpy as np"
   ]
  },
  {
   "cell_type": "markdown",
   "metadata": {},
   "source": [
    "<div class=\"alert alert-success\">    \n",
    "    <h1>Problema 1: Assignació de tasques</h1>\n",
    "    <br>\n",
    "    Sigui $A$ una matriu de nombres enters de mida $n\\times n$:\n",
    "    $$A = \\begin{pmatrix}a_{0,0}\\quad \\cdots \\quad a_{0,n}\\\\\n",
    "                         \\vdots\\quad\\quad\\quad\\quad\\vdots\\\\\n",
    "                         a_{n,0}\\quad \\cdots \\quad a_{n,n}\n",
    "         \\end{pmatrix}$$\n",
    "    L'element $a_{i,j}$ correspon al cost d'assignar la tasca $i$ a l'empresa $j$.<br>\n",
    "    Volem trobar el mínim cost d'assignar tasques a empreses amb la condició que totes les tasques han d'estar assignades i les empreses han de fer només una tasca.\n",
    "     \n",
    "</div>"
   ]
  },
  {
   "cell_type": "markdown",
   "metadata": {},
   "source": [
    "## Funcions útils"
   ]
  },
  {
   "cell_type": "code",
   "execution_count": 3,
   "metadata": {},
   "outputs": [],
   "source": [
    "costs = np.array([[11,12,18,40],\n",
    "                  [14,15,13,22],\n",
    "                  [11,17,19,23],\n",
    "                  [17,14,20,28]])"
   ]
  },
  {
   "cell_type": "markdown",
   "metadata": {},
   "source": [
    "####  <u>np.min</u>\n",
    "Ens permet obtenir el mínim de cada columna o fila d'una matriu"
   ]
  },
  {
   "cell_type": "code",
   "execution_count": 4,
   "metadata": {},
   "outputs": [
    {
     "name": "stdout",
     "output_type": "stream",
     "text": [
      "[11 12 13 22]\n",
      "58\n"
     ]
    }
   ],
   "source": [
    "print(costs.min(axis=0)) # Axis=0 indica que volem el mínim de cada columna\n",
    "print(sum(costs.min(axis=0)))"
   ]
  },
  {
   "cell_type": "code",
   "execution_count": 5,
   "metadata": {},
   "outputs": [
    {
     "name": "stdout",
     "output_type": "stream",
     "text": [
      "[11 13 11 14]\n",
      "49\n"
     ]
    }
   ],
   "source": [
    "print(costs.min(axis=1)) # Axis=1 indica que volem el mínim de cada fila\n",
    "print(sum(costs.min(axis=1)))"
   ]
  },
  {
   "cell_type": "markdown",
   "metadata": {},
   "source": [
    "#### <u>np.delete</u>\n",
    "Ens permet eliminar una fila o una columna d'un array de numpy.<br>\n",
    "Observa els exemples:"
   ]
  },
  {
   "cell_type": "code",
   "execution_count": 6,
   "metadata": {},
   "outputs": [
    {
     "name": "stdout",
     "output_type": "stream",
     "text": [
      "[[11 12 18 40]\n",
      " [14 15 13 22]\n",
      " [17 14 20 28]]\n"
     ]
    }
   ],
   "source": [
    "# Axis=0 indica que volem eliminar files. En aquest cas estem eliminant només la fila 2\n",
    "new_costs1 = np.delete(costs, 2, axis=0) \n",
    "print(new_costs1)"
   ]
  },
  {
   "cell_type": "code",
   "execution_count": 7,
   "metadata": {},
   "outputs": [
    {
     "name": "stdout",
     "output_type": "stream",
     "text": [
      "[[11 17 19 23]\n",
      " [17 14 20 28]]\n"
     ]
    }
   ],
   "source": [
    "# Axis=0 indica que volem eliminar files. En aquest cas estem eliminant les files 0 i 1\n",
    "new_costs2 = np.delete(costs, [0,1], axis=0) \n",
    "print(new_costs2)"
   ]
  },
  {
   "cell_type": "code",
   "execution_count": 8,
   "metadata": {},
   "outputs": [
    {
     "name": "stdout",
     "output_type": "stream",
     "text": [
      "[[12 40]\n",
      " [15 22]\n",
      " [17 23]\n",
      " [14 28]]\n"
     ]
    }
   ],
   "source": [
    "# Axis=1 indica que volem eliminar columnes. En aquest cas estem eliminant les columnes 0 i 2\n",
    "new_costs3 = np.delete(costs, [0,2], axis=1)\n",
    "print(new_costs3)"
   ]
  },
  {
   "cell_type": "code",
   "execution_count": 9,
   "metadata": {},
   "outputs": [
    {
     "name": "stdout",
     "output_type": "stream",
     "text": [
      "[[11 17]\n",
      " [17 14]]\n"
     ]
    }
   ],
   "source": [
    "# Podem esborrar files i columnes d'una matriu\n",
    "new_costs4 = np.delete(np.delete(costs, [0,1], axis=0), [2,3], axis=1)\n",
    "print(new_costs4)"
   ]
  },
  {
   "cell_type": "code",
   "execution_count": 10,
   "metadata": {},
   "outputs": [],
   "source": [
    "from queue import PriorityQueue\n",
    "\n",
    "def inf_bound(matrix):\n",
    "    \"\"\"\n",
    "    Calcula la suma del mínim de cada columna\n",
    "    \n",
    "    Params\n",
    "    ======\n",
    "    :matrix: La matriu de costs\n",
    "    \n",
    "    Returns\n",
    "    =======\n",
    "    :inf: La suma del mínim de cada columna\n",
    "    \"\"\"\n",
    "    \n",
    "    return 0\n",
    "\n",
    "def sup_bound(matrix):\n",
    "    \"\"\"\n",
    "    Retorna el cost d'una assignació qualsevol.\n",
    "    \n",
    "    Params\n",
    "    ======\n",
    "    :matrix: La matriu de costs\n",
    "    \n",
    "    Returns\n",
    "    =======\n",
    "    :sup: El cost d'una assignació qualsevol. Per exemple, podem retornar la suma de la diagonal de la matriu\n",
    "          que consisteix en assignar la tasca 'i' a l'empresa 'i' on i=0,1,2,3,4...\n",
    "    \"\"\"\n",
    "    \n",
    "    return 0\n",
    "\n",
    "def tasks(matrix):\n",
    "    \"\"\"\n",
    "    Troba l'assignació entre tasques i empreses amb cost mínim utilitzant ramificació i poda.\n",
    "    Cada cop que troba una assignació millor ll'imprimeix per pantalla.\n",
    "    \n",
    "    Params\n",
    "    =====\n",
    "    :matrix: La matriu de costs\n",
    "    \"\"\"\n",
    "    \n",
    "    # Cotes inicials\n",
    "    sup = sup_bound(matrix)\n",
    "    inf = inf_bound(matrix)\n",
    "    \n",
    "    # Cua de prioritat. Guardarem quatre elements:\n",
    "    # 1. Prioritat\n",
    "    # 2. Parelles ja assignades (tasca, empresa)\n",
    "    # 3. Tasca que hem d'assignar a continuació (row)\n",
    "    # 4. Empreses ja assignades (col)\n",
    "    pq = PriorityQueue()\n",
    "    pq.put((inf, [], 0, set([])))\n",
    "    \n",
    "    # Iterarem mentre la cua de prioritat no sigui buida\n",
    "    while not pq.empty():\n",
    "        \n",
    "        # Extraiem un element\n",
    "        elem_cota, elem_list, elem_row, elem_cols = pq.get()  \n",
    "        \n",
    "        # EL TEU CODI AQUÍ\n",
    "        "
   ]
  },
  {
   "cell_type": "code",
   "execution_count": 11,
   "metadata": {},
   "outputs": [
    {
     "name": "stdout",
     "output_type": "stream",
     "text": [
      "Matriu de costs:\n",
      "[[11 12 18 40]\n",
      " [14 15 13 22]\n",
      " [11 17 19 23]\n",
      " [17 14 20 28]]\n",
      "\n"
     ]
    }
   ],
   "source": [
    "costs = np.array([[11,12,18,40],\n",
    "                  [14,15,13,22],\n",
    "                  [11,17,19,23],\n",
    "                  [17,14,20,28]])\n",
    "\n",
    "print(\"Matriu de costs:\")\n",
    "print(costs)\n",
    "print()\n",
    "\n",
    "tasks(costs)"
   ]
  },
  {
   "cell_type": "code",
   "execution_count": 12,
   "metadata": {},
   "outputs": [
    {
     "name": "stdout",
     "output_type": "stream",
     "text": [
      "Matriu de costs:\n",
      "[[38 43 49 21 25 26 18 49]\n",
      " [32 48 34 38 29 16 45 44]\n",
      " [45 16 29 25 39 29 32 34]\n",
      " [44 30 41 36 27 34 33 24]\n",
      " [34 43 39 10 23 17 39 23]\n",
      " [26 28 36 45 27 47 36 45]\n",
      " [28 22 42 10 38 19 38 25]\n",
      " [19 36 21 46 13 39 30 24]]\n",
      "\n"
     ]
    }
   ],
   "source": [
    "costs = np.array( [[38, 43, 49, 21, 25, 26, 18, 49],\n",
    "                   [32, 48, 34, 38, 29, 16, 45, 44],\n",
    "                   [45, 16, 29, 25, 39, 29, 32, 34],\n",
    "                   [44, 30, 41, 36, 27, 34, 33, 24],\n",
    "                   [34, 43, 39, 10, 23, 17, 39, 23],\n",
    "                   [26, 28, 36, 45, 27, 47, 36, 45],\n",
    "                   [28, 22, 42, 10, 38, 19, 38, 25],\n",
    "                   [19, 36, 21, 46, 13, 39, 30, 24]])\n",
    "\n",
    "print(\"Matriu de costs:\")\n",
    "print(costs)\n",
    "print()\n",
    "\n",
    "tasks(costs)"
   ]
  },
  {
   "cell_type": "code",
   "execution_count": 13,
   "metadata": {},
   "outputs": [
    {
     "name": "stdout",
     "output_type": "stream",
     "text": [
      "Matriu de costs:\n",
      "[[10 29 28 15 32 25 18 42 49 23]\n",
      " [15 33 38 14 22 25 41 36 38 24]\n",
      " [36 42 45 45 17 40 37 41 30 43]\n",
      " [37 17 31 41 24 30 41 43 22 33]\n",
      " [18 18 38 16 19 29 24 10 33 38]\n",
      " [35 49 22 30 40 15 44 29 22 15]\n",
      " [28 37 18 32 16 42 32 12 31 43]\n",
      " [35 47 44 11 36 34 14 20 20 15]\n",
      " [12 31 42 42 20 34 43 37 17 23]\n",
      " [49 14 38 19 23 25 44 24 31 40]]\n",
      "\n"
     ]
    }
   ],
   "source": [
    "costs = np.random.randint(10,50,(10,10))\n",
    "\n",
    "print(\"Matriu de costs:\")\n",
    "print(costs)\n",
    "print()\n",
    "\n",
    "tasks(costs)"
   ]
  },
  {
   "cell_type": "markdown",
   "metadata": {},
   "source": [
    "<div class=\"alert alert-success\">\n",
    "    <h1>Problema 2: Sliding-Puzzle</h1>\n",
    "    <br>\n",
    "    Donat un taulell de $n\\times n$ de nombres des d'$1$ fins a $n^2-1$ inicialment desordenats, volem trobar el nombre mínim de moviments possibles de manera que els nombres estiguin ordenats en ordre creixent i la casella sense número estigui a l'última posició.\n",
    "</div>"
   ]
  },
  {
   "cell_type": "markdown",
   "metadata": {},
   "source": [
    "<img src=\"https://www.researchgate.net/profile/Ruo-Ando/publication/347300656/figure/fig1/AS:969204928901121@1608087870493/Initial-state-and-goal-state-of-8-puzzle.ppm\" width='25%'/>"
   ]
  },
  {
   "cell_type": "code",
   "execution_count": 14,
   "metadata": {
    "scrolled": true
   },
   "outputs": [
    {
     "name": "stdout",
     "output_type": "stream",
     "text": [
      "Un tauler aleatori:\n",
      "+-----------+\n",
      "|   | 2 | 3 | \n",
      "+-----------+\n",
      "| 6 | 8 | 4 | \n",
      "+-----------+\n",
      "| 5 | 7 | 1 | \n",
      "+-----------+\n",
      "\n"
     ]
    }
   ],
   "source": [
    "from npuzzle import NPuzzle\n",
    "\n",
    "# Inicialitzem un tauler i el barregem\n",
    "board = NPuzzle()\n",
    "board.create_board(n=3, moves=100)\n",
    "\n",
    "print (\"Un tauler aleatori:\")\n",
    "print(board)"
   ]
  },
  {
   "cell_type": "markdown",
   "metadata": {},
   "source": [
    "La funció ``get_state_id`` ens retorna un 'string' amb la configuració del tauler. D'aquesta forma podrem guardar els estats que ja hem visitat per a no repetir-los\n"
   ]
  },
  {
   "cell_type": "code",
   "execution_count": 15,
   "metadata": {},
   "outputs": [
    {
     "data": {
      "text/plain": [
       "'0,2,3,6,8,4,5,7,1'"
      ]
     },
     "execution_count": 15,
     "metadata": {},
     "output_type": "execute_result"
    }
   ],
   "source": [
    "board.get_state_id()"
   ]
  },
  {
   "cell_type": "markdown",
   "metadata": {},
   "source": [
    "Per a cada tauler, podem definir una cota que depèn del nombre de moviments que hem fet fins el moment i un valor optimista calculat com una 'distància' entre el tauler que estem considerant i el tauler objectiu.\n",
    "\n",
    "$$C(X) = g(X) + h(X)$$\n",
    "+ $g(X)$ és el nombre de passos que portem fins el moment.\n",
    "+ $h(X)$ pot ser:\n",
    "    + $h_1(X)$: El nombre de caselles que no estan al seu lloc sense tenir en compte la casella buida (hamming_distance)\n",
    "    + $h_2(X)$: La suma de les distàncies de manhattan de cada casella al seu lloc correcte (manhattan_distance)"
   ]
  },
  {
   "cell_type": "code",
   "execution_count": 16,
   "metadata": {},
   "outputs": [
    {
     "data": {
      "text/plain": [
       "6"
      ]
     },
     "execution_count": 16,
     "metadata": {},
     "output_type": "execute_result"
    }
   ],
   "source": [
    "board.hamming_distance() # h1(X)"
   ]
  },
  {
   "cell_type": "code",
   "execution_count": 17,
   "metadata": {},
   "outputs": [
    {
     "data": {
      "text/plain": [
       "12"
      ]
     },
     "execution_count": 17,
     "metadata": {},
     "output_type": "execute_result"
    }
   ],
   "source": [
    "board.manhattan_distance() # h2(X)"
   ]
  },
  {
   "cell_type": "markdown",
   "metadata": {},
   "source": [
    "Podem demanar quins moviments són valids des d'una configuració del tauler amb la funció ``allowed_moves()``. Un moviment consisteix en 'moure' la casella buida en una de les quatre direccions permeses:<br>\n",
    "+ $L$: Left\n",
    "+ $R$: Right\n",
    "+ $U$: Up\n",
    "+ $D$: Down"
   ]
  },
  {
   "cell_type": "code",
   "execution_count": 18,
   "metadata": {},
   "outputs": [
    {
     "name": "stdout",
     "output_type": "stream",
     "text": [
      "['R', 'D']\n"
     ]
    }
   ],
   "source": [
    "am = board.allowed_moves()\n",
    "print(am)"
   ]
  },
  {
   "cell_type": "markdown",
   "metadata": {},
   "source": [
    "Executem un moviment amb la funció ``move()``"
   ]
  },
  {
   "cell_type": "code",
   "execution_count": 19,
   "metadata": {},
   "outputs": [
    {
     "name": "stdout",
     "output_type": "stream",
     "text": [
      "+-----------+\n",
      "| 2 |   | 3 | \n",
      "+-----------+\n",
      "| 6 | 8 | 4 | \n",
      "+-----------+\n",
      "| 5 | 7 | 1 | \n",
      "+-----------+\n",
      "\n"
     ]
    }
   ],
   "source": [
    "new_board = board.move(am[0])\n",
    "print(new_board)"
   ]
  },
  {
   "cell_type": "markdown",
   "metadata": {},
   "source": [
    "La funció state ens comprova si el nostre estat és un estat solució."
   ]
  },
  {
   "cell_type": "code",
   "execution_count": 20,
   "metadata": {},
   "outputs": [
    {
     "data": {
      "text/plain": [
       "False"
      ]
     },
     "execution_count": 20,
     "metadata": {},
     "output_type": "execute_result"
    }
   ],
   "source": [
    "# Solucionat: True\n",
    "# No solucionat: False\n",
    "new_board.state()"
   ]
  },
  {
   "cell_type": "code",
   "execution_count": 21,
   "metadata": {},
   "outputs": [],
   "source": [
    "import numpy as np\n",
    "\n",
    "def solve_puzzle(board):\n",
    "    \"\"\"\n",
    "    Soluciona el problema del N-Puzzle\n",
    "    \n",
    "    Params\n",
    "    ======\n",
    "    :board: Un objecte de la classe NPuzzle\n",
    "    \n",
    "    Returns\n",
    "    =======\n",
    "    :best_bound: Nombre de passos mínims per transformar el tauler d'entrada en el tauler objectiu\n",
    "    :best_board: El tauler objectiu. Haurien de ser els números ordenats de petit a gran amb la casella buida al final.\n",
    "    :expanded: El nombre de taulers expandits. Cada cop que traiem un tauler de la cua de prioritat, sumem 1.\n",
    "    \"\"\"\n",
    "    \n",
    "    # Millor solució trobada. Inicialment té cota infinit\n",
    "    best_bound = np.inf\n",
    "    best_board = board\n",
    "    \n",
    "    # Guardem en una cua de prioritat els taulells.\n",
    "    # Guardarem les variables:\n",
    "    # 1. Distància mínima (cota inferior) entre el tauler actual i el tauler solució\n",
    "    # 2. Número de passes que duem en aquest tauler, g(X)\n",
    "    # 3. El tauler\n",
    "    pq = PriorityQueue()\n",
    "    pq.put((board.manhattan_distance(), 0, board))\n",
    "    \n",
    "    # Com que els estats poden repetir-se al llarg de l'exploració, guardarem en un 'set' tots els\n",
    "    # estats visitats. Així evidem tornar a visitar estats.\n",
    "    existent_states = set([board.get_state_id()])\n",
    "    expanded = 0\n",
    "    \n",
    "    while not pq.empty():\n",
    "        \n",
    "        # Obtenim un nou element de la cua\n",
    "        curr_bound, curr_steps, curr_board = pq.get()\n",
    "        \n",
    "        # EL TEU CODI AQUÍ\n",
    "                \n",
    "    return best_bound, best_board, expanded\n",
    "    "
   ]
  },
  {
   "cell_type": "code",
   "execution_count": 22,
   "metadata": {},
   "outputs": [
    {
     "name": "stdout",
     "output_type": "stream",
     "text": [
      "Tauler inicial:\n",
      "+-----------+\n",
      "| 5 | 7 |   | \n",
      "+-----------+\n",
      "| 8 | 1 | 2 | \n",
      "+-----------+\n",
      "| 6 | 3 | 4 | \n",
      "+-----------+\n",
      "\n",
      "Solucionat en inf passos\n",
      "Taulers expandits: 0\n",
      "Tauler final:\n",
      "+-----------+\n",
      "| 5 | 7 |   | \n",
      "+-----------+\n",
      "| 8 | 1 | 2 | \n",
      "+-----------+\n",
      "| 6 | 3 | 4 | \n",
      "+-----------+\n",
      "\n"
     ]
    }
   ],
   "source": [
    "board = NPuzzle()\n",
    "board.create_board(moves=100, n=3)\n",
    "print(\"Tauler inicial:\")\n",
    "print(board)\n",
    "distance, final_board, expanded = solve_puzzle(board)\n",
    "print(f\"Solucionat en {distance} passos\")\n",
    "print(f\"Taulers expandits: {expanded}\")\n",
    "print(\"Tauler final:\")\n",
    "print(final_board)"
   ]
  }
 ],
 "metadata": {
  "kernelspec": {
   "display_name": "Python 3",
   "language": "python",
   "name": "python3"
  },
  "language_info": {
   "codemirror_mode": {
    "name": "ipython",
    "version": 3
   },
   "file_extension": ".py",
   "mimetype": "text/x-python",
   "name": "python",
   "nbconvert_exporter": "python",
   "pygments_lexer": "ipython3",
   "version": "3.7.6"
  }
 },
 "nbformat": 4,
 "nbformat_minor": 4
}
