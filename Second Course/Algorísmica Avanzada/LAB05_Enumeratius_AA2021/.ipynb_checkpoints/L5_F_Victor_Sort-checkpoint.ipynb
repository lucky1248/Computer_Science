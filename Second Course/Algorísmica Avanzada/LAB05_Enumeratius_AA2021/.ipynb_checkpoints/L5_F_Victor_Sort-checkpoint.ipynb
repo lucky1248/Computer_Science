{
 "cells": [
  {
   "cell_type": "markdown",
   "metadata": {},
   "source": [
    "<div style=\"padding:30px; color: white; background-color: #0071CD\">\n",
    "<center>\n",
    "<img src=\"img/logoub.jpeg\"></img>\n",
    "<center>\n",
    "<h1>Algorísmica Avançada 2021</h1>\n",
    "<h2>Laboratori 5 - Enumeratius, Ramificació i Poda</h2>\n",
    "</center>\n",
    "</div>"
   ]
  },
  {
   "cell_type": "code",
   "execution_count": 1,
   "metadata": {},
   "outputs": [
    {
     "data": {
      "text/html": [
       "<style>.container { width:100% !important; }</style>"
      ],
      "text/plain": [
       "<IPython.core.display.HTML object>"
      ]
     },
     "metadata": {},
     "output_type": "display_data"
    }
   ],
   "source": [
    "import sys\n",
    "sys.path.insert(0, '../../')\n",
    "\n",
    "from IPython.core.display import display, HTML\n",
    "display(HTML(\"<style>.container { width:100% !important; }</style>\"))"
   ]
  },
  {
   "cell_type": "markdown",
   "metadata": {},
   "source": [
    "# Backtracking"
   ]
  },
  {
   "cell_type": "markdown",
   "metadata": {},
   "source": [
    "El <b>backtracking</b> és una tècnica d'exploració exhaustiva, és a dir, que explora tots els possibles estats d'un problema. La implementació d'un algorisme mitjançant backtracking no és gaire diferent a les estratègies de recursió que hem vist fins ara peró amb un matís important que veurem a continuació. Tots els algorismes de backtracking es caracteritzen per anar avançant fins que es pugui i, en cas d'arribar a un punt on no podem seguir explorant, <b>desfer el camí fins a l'últim punt possible</b> i explorar els següents estats.<br><br>\n",
    "Un exemple per al problema de les N-Reines (N=4) el podeu veure representat en la figura següent.<br>\n",
    "Observeu com inicialment es col·loca una reina a la primera casella (0,0) i, al no arribar a una solució, s'acaba movent a la posició (1,0).\n",
    "<img src=\"https://i.imgur.com/FYu8t3s.gif\" width='20%'/>\n"
   ]
  },
  {
   "cell_type": "markdown",
   "metadata": {},
   "source": [
    "## Com programem algorismes usant backtracking?\n",
    "\n",
    "Tot algorimse de backtracking ha de tenir, com a mínim, els següents tres blocs de codi."
   ]
  },
  {
   "cell_type": "markdown",
   "metadata": {},
   "source": [
    "<img src=\"img/backscheme.png\" width='40%'/>"
   ]
  },
  {
   "cell_type": "markdown",
   "metadata": {},
   "source": [
    "<ol>\n",
    "    <li><b>Solució trobada</b>: Hem de tenir una forma de comprovar si hem arribat a una solució. En el cas que aquest sigui l'únic objectiu del problema, ja haurem acabat i simplement haurem de desfer les crides recursives.\n",
    "    <li><b>Exploració</b>: Donat un estat actual, mirem quins moviments podem fer (si és que en podem fer algun!). Triem un dels moviments (seguint un criteri, o no) i cridem recursivament la funció esperant trobar una solució al problema. En el cas que el resultat d'una exploració no hagi retornat cap solució vàlida, hem de desfer el moviment que havíem fet.\n",
    "    <li><b>Estat no vàlid</b>: En el cas que durant l'exploració ens trobem amb un estat que no es vàlid per seguir explorant, per exemple, no podem fer cap altre moviment i tampoc hem resolt el problema, avisem a les crides anteriors d'això per a que puguin desfer-lo.\n",
    "</ol>"
   ]
  },
  {
   "cell_type": "markdown",
   "metadata": {},
   "source": [
    "<div class=\"alert alert-success\">\n",
    "    <h1>Problema 1: Lights Out!</h1>\n",
    "    <img src=\"https://upload.wikimedia.org/wikipedia/commons/a/a9/LightsOutIllustration.svg\" width='70%'>\n",
    "    <p>\n",
    "        Lights Out és un joc que consisteix en encendre o apagar totes les llums d'un tauler de dimensió $W\\times H$ en el <b>mínim nombre de clics possibles</b>. L'objectiu d'aquest problema és una mica diferent. Donades dues configuracions de tauler (per exemple la primera i última imatge de la figura anterior), volem trobar el mínim nombre de clics que ens permeten transformar un tauler en l'altre.<br><br>\n",
    "        Cada cel·la de la graella té dos estats possibles (encesa/apagada) i al fer clic sobre una cel·la es canvia l'estat d'ella mateixa i de les cel·les adjacents horitzontals i verticals com podeu veure representat també en la figura anterior.<br><br>\n",
    "        Implementeu les dues funcions <b>compare_grids</b> i <b>solve_lights_out</b>. \n",
    "        <ol>\n",
    "            <li>La funció <b>compare_grids</b> ha de retornar un valor de similitud entre dues graelles.\n",
    "            <li>La funció <b>solve_lights_out</b> ha d'implementar estratègies de backtracking i/o ramificació i poda per tal d'optimitzar el màxim el temps d'execució. Podeu plantejar-vos també usar cues de prioritat per prioritzar l'expansió de certs estats en concret.\n",
    "        </ol>        \n",
    "    La classe <b>LightsOut</b> conté una sola variable, <b>grid</b> amb la representació de cada posició de la graella.<br>\n",
    "    Té implementades les funcions <b>click, board_id, show_board</b> que s'expliquen a continuació.    \n",
    "    </p>\n",
    "    \n",
    "</div>"
   ]
  },
  {
   "cell_type": "code",
   "execution_count": 57,
   "metadata": {},
   "outputs": [],
   "source": [
    "from lights_out import LightsOut\n",
    "import random\n",
    "from matplotlib import pyplot as plt"
   ]
  },
  {
   "cell_type": "markdown",
   "metadata": {},
   "source": [
    "### Generació de taulers aleatoris"
   ]
  },
  {
   "cell_type": "code",
   "execution_count": 83,
   "metadata": {},
   "outputs": [],
   "source": [
    "# Generem dos configuracions aleatòries\n",
    "W, H = 3,4\n",
    "shuffle = 100\n",
    "\n",
    "# Inicialitzem dos objectes amb la dimensió de la graella\n",
    "a = LightsOut(W, H) # Configuració inicial\n",
    "b = LightsOut(W, H) # Configuració objectiu\n",
    "\n",
    "# Clicks aleatoris\n",
    "for _ in range(shuffle ):\n",
    "    i, j = random.randint(0, len(b.grid)-1), random.randint(0, len(b.grid[0])-1)\n",
    "    b = b.click(i,j)\n",
    "    \n",
    "for _ in range(shuffle):\n",
    "    i, j = random.randint(0, len(a.grid)-1), random.randint(0, len(a.grid[0])-1)\n",
    "    a = a.click(i,j)"
   ]
  },
  {
   "cell_type": "markdown",
   "metadata": {},
   "source": [
    "### Mostrem els dos taulells generats"
   ]
  },
  {
   "cell_type": "code",
   "execution_count": 59,
   "metadata": {},
   "outputs": [
    {
     "data": {
      "image/png": "[encoded data removed]",
      "text/plain": [
       "<Figure size 720x360 with 2 Axes>"
      ]
     },
     "metadata": {
      "needs_background": "light"
     },
     "output_type": "display_data"
    }
   ],
   "source": [
    "fig, axs = plt.subplots(1,2,figsize=(10,5))\n",
    "\n",
    "a.show_board(ax = axs[0])\n",
    "axs[0].set_title('Configuració inicial')\n",
    "b.show_board(ax = axs[1])\n",
    "axs[1].set_title('Configuració objectiu')\n",
    "\n",
    "plt.show()"
   ]
  },
  {
   "cell_type": "markdown",
   "metadata": {},
   "source": [
    "### Ús de la variable 'grid' i de les funcions 'board_id()', 'click()' i 'show_board()'"
   ]
  },
  {
   "cell_type": "code",
   "execution_count": 73,
   "metadata": {},
   "outputs": [
    {
     "data": {
      "text/plain": [
       "[['-', '-', '-', '-'], ['-', '-', 'X', '-'], ['-', 'X', '-', 'X']]"
      ]
     },
     "execution_count": 73,
     "metadata": {},
     "output_type": "execute_result"
    }
   ],
   "source": [
    "# Podem accedir a a la graella amb la variable 'grid'\n",
    "a.grid"
   ]
  },
  {
   "cell_type": "code",
   "execution_count": 74,
   "metadata": {},
   "outputs": [
    {
     "data": {
      "text/plain": [
       "-5045637243634541599"
      ]
     },
     "execution_count": 74,
     "metadata": {},
     "output_type": "execute_result"
    }
   ],
   "source": [
    "# Podem usar un identificador únic de cada graella cridant a board_id()\n",
    "a.board_id()"
   ]
  },
  {
   "cell_type": "code",
   "execution_count": 75,
   "metadata": {},
   "outputs": [
    {
     "data": {
      "image/png": "[encoded data removed]",
      "text/plain": [
       "<Figure size 1080x288 with 3 Axes>"
      ]
     },
     "metadata": {
      "needs_background": "light"
     },
     "output_type": "display_data"
    }
   ],
   "source": [
    "# Inicialitzem una figura amb tres subfigures i hi mostrem en primer lloc la configuració inicial\n",
    "fig, axs = plt.subplots(1,3,figsize=(15,4))\n",
    "a.show_board(ax = axs[0])\n",
    "axs[0].set_title('Configuració inicial')\n",
    "\n",
    "# Triem un punt aleatori i mostrem el click.\n",
    "i, j = random.randint(0, len(a.grid)-1), random.randint(0, len(a.grid[0])-1)\n",
    "a.show_board(ax = axs[1], show_click=(i,j))\n",
    "axs[1].set_title(f'Click a la casella ({i},{j})')\n",
    "\n",
    "# Executem el click i mirem el resultat\n",
    "new_a = a.click(i,j)\n",
    "new_a.show_board(ax = axs[2])\n",
    "axs[2].set_title(f'Configuració després del click ({i},{j})')\n",
    "\n",
    "plt.show()"
   ]
  },
  {
   "cell_type": "code",
   "execution_count": 76,
   "metadata": {},
   "outputs": [],
   "source": [
    "from queue import PriorityQueue\n",
    "\n",
    "def compare_grids(l1, l2):\n",
    "    \"\"\"\n",
    "    Aquesta funció assigna una puntuació a la similitud entre l1 i l2.\n",
    "    \n",
    "    Params\n",
    "    ======\n",
    "    :l1, l2: Dos objectes de tipus LightsOut\n",
    "    \n",
    "    Returns\n",
    "    =======\n",
    "    :score: Una puntuació entre aquests dos elements.\n",
    "    \"\"\"\n",
    "    #Inicialitzem la puntuació al nombre de caselles que hi ha\n",
    "    score = len(l1.grid) * len(l1.grid[0])\n",
    "    #Recorrem totes les caselles i si en els dos taulers estàn simultaniament enceses\n",
    "    #o apagades restem 1 a la puntuació\n",
    "    for i in range(len(l1.grid)):\n",
    "        for j in range(len(l1.grid[0])):\n",
    "            if l1.grid[i][j] == l2.grid[i][j]:\n",
    "                score -= 1\n",
    "    #Retornem la puntuació\n",
    "    return score\n",
    "\n",
    "def solve_lights_out(ini, tar):\n",
    "    \"\"\"\n",
    "    Aquesta funció soluciona el problema Lights Out i retorna una solució de moviments mínims.\n",
    "    \n",
    "    Params\n",
    "    ======\n",
    "    :ini, tar: Dos objectes de tipus LightsOut\n",
    "    \n",
    "    Returns\n",
    "    =======\n",
    "    :expanded: Número de taulers que s'han expandit\n",
    "    :best_moves: La seqüència de moviments que s'han de realitzar per arribar d'un tauler a l'altre en el format [(0,0), (3,2), (1,2),...]\n",
    "    \"\"\"\n",
    "    #Inicialitzem els valors que haurem de retornar, \n",
    "    expanded = 0\n",
    "    best_moves = []\n",
    "    #Cridem a la funció de backtracking que construeixi la solució amb els menors clicks possibles \n",
    "    best_moves, expanded = back_lights(ini, tar, best_moves, set(), set(), expanded)\n",
    "    #Retornem el nombre de taulers que s'han expandit i quina és la millor seqüencia de moviments\n",
    "    return best_moves, expanded\n",
    "\n",
    "def back_lights(ini, tar, best_moves, clicks, visited, exp):\n",
    "        #A cada funció recursiva, sumem un al contador de taulers expandits\n",
    "        exp+=1\n",
    "        #Si ja hem aconseguit la configuració objectiu, si és el primer cop o ho hem fet amb menys clicks\n",
    "        #actualitzem la millor solució\n",
    "        if compare_grids(ini,tar) == 0:\n",
    "            if len(best_moves)==0 or len(best_moves)>len(clicks):\n",
    "                best_moves = clicks.copy()    \n",
    "                return best_moves,exp\n",
    "        #Si encara no hem trobat solució o la configuració que estem provant no és més llarga que la millor solució,\n",
    "        #i la configuració que provem no ha estat provada ja que no és solució:\n",
    "        if (len(best_moves)==0 or len(best_moves)>len(clicks)) and ini.board_id() not in visited:\n",
    "            #Calculem els clicks que podem fer, en ordre de millor a pitjor, en una cua de prioritat\n",
    "            q = PriorityQueue()\n",
    "            #Recorrem el tauler, i, per cada casella...\n",
    "            for i in range(len(ini.grid)):\n",
    "                for j in range(len(ini.grid[0])):\n",
    "                    #Si la casella no està encara en cap click que haguem l'afegim a la cua\n",
    "                    if (i,j) not in clicks:\n",
    "                        q.put((compare_grids(ini.click(i,j),tar),(i,j)))\n",
    "            #Mentre no estigui buida la cua:\n",
    "            while not q.empty():\n",
    "                #Agafem de la cua el click\n",
    "                click=q.get()[1]\n",
    "                #Per cridar a la crida recursiva, afegim el click en els clicks\n",
    "                clicks.add((click[0],click[1]))\n",
    "                #Fem la crida recursiva\n",
    "                best_moves, exp = back_lights(ini.click(click[0],click[1]), tar, best_moves, clicks, visited, exp)\n",
    "                #Desfem els canvis necessaris per haver cridat la funció recursiva\n",
    "                clicks.discard((click[0],click[1]))\n",
    "        #Afegim aquesta configuració a les configuracions visitades\n",
    "        visited.add(ini.board_id())\n",
    "        return best_moves, exp\n",
    "        \n",
    "def show_steps(ini, tar, steps):\n",
    "    \"\"\"\n",
    "    Mostra una figura per pas donat un tauler inicial i un conjunt de passos\n",
    "    \n",
    "    Params\n",
    "    ======\n",
    "    :ini: Un objecte de la classe LightsOut amb la configuració original\n",
    "    :tar: Un objecte de la classe LightsOut amb la configuració objectiu\n",
    "    :steps: Una llista de passos amb el format [(0,0), (3,2), (1,2),...]\n",
    "    \"\"\"\n",
    "    fig, axs = plt.subplots(1, len(steps)+2, figsize=(30,5))\n",
    "    axs = axs.flatten()\n",
    "    for i, step in enumerate(steps):\n",
    "        ini.show_board(ax=axs[i], show_click=step)\n",
    "        axs[i].set_title(f\"Click at {step}\")\n",
    "        ini = ini.click(*step)\n",
    "    ini.show_board(ax=axs[i+1])\n",
    "    axs[i+1].set_title(f'Result after {len(steps)} steps')\n",
    "    tar.show_board(ax=axs[i+2])\n",
    "    axs[i+2].set_title(f'Target configuration')\n",
    "    plt.show()"
   ]
  },
  {
   "cell_type": "markdown",
   "metadata": {},
   "source": [
    "Proveu-ho aquí:"
   ]
  },
  {
   "cell_type": "code",
   "execution_count": 84,
   "metadata": {},
   "outputs": [],
   "source": [
    "moves, expanded = solve_lights_out(a,b)"
   ]
  },
  {
   "cell_type": "code",
   "execution_count": 85,
   "metadata": {},
   "outputs": [
    {
     "name": "stdout",
     "output_type": "stream",
     "text": [
      "Expanded boards: 13433\n"
     ]
    },
    {
     "data": {
      "image/png": "[encoded data removed]",
      "text/plain": [
       "<Figure size 2160x360 with 6 Axes>"
      ]
     },
     "metadata": {
      "needs_background": "light"
     },
     "output_type": "display_data"
    }
   ],
   "source": [
    "print('Expanded boards:',expanded)\n",
    "show_steps(a,b,moves)"
   ]
  },
  {
   "cell_type": "markdown",
   "metadata": {},
   "source": [
    "<div class=\"alert alert-success\">\n",
    "    <h1>Problema 2: Roomba!</h1>\n",
    "    <p>\n",
    "        En el nostre pis quadrat, tenim una roomba endollada a la seva base de càrrega. Volem que visiti un seguit de punts que hem embrutat i que ho faci en el menor temps possible. Si el nostre pis és de $W\\times H$ cel·les i la roomba està situada inicialment a les coordenades $(x_0,y_0)$ volem trobar el menor nombre de passos possibles $p$ d'un recorregut que comenci i acabi a $(x_0,y_0)$ i que visiti tots els punts.<br><br>\n",
    "        Implementeu la funció <b>solve_roomba</b> utilitzant estratègies de backtracking i ramificació i poda. Ha de retornar els taulers expandits i un camí que comenci i acabi a $(x_0,y_0)$ passant per tots els punts que es demanen. També heu d'implementar les funcions <b>inferior_bound</b> i <b>superior_bound</b> per a que retornin una cota inferior i superior, respectivament.\n",
    "        <ol>\n",
    "            <li><b>Cota inferior</b>: Considereu que tots els punts estan alinets horitzontalment amb la roomba. Quin seria el cost de visitar tots els punts en aquest cas?\n",
    "            <li><b>Cota superior</b>: Trobeu una solució, no òptima evidentment, usant una estratègia greedy. Com a mínim ja tindrem una solució que, segurament, no serà la millor però la podrem fer servir per comparar durant l'execució del nostre algorisme.\n",
    "        </ol>\n",
    "        La classe <b>Roomba</b> conté quatre variables:\n",
    "        <ol>\n",
    "            <li><b>H, W</b>: amb les dimensions del pis.\n",
    "            <li><b>origin</b>: una parella $(x_0,y_0)$ amb l'estació de càrrega de la roomba.\n",
    "            <li><b>points</b>: una llista de parelles diferents entre elles $(i,j)$ amb els punts que s'han de netejar.\n",
    "        </ol>\n",
    "    </p>\n",
    "    \n",
    "</div>"
   ]
  },
  {
   "cell_type": "code",
   "execution_count": 72,
   "metadata": {},
   "outputs": [],
   "source": [
    "from roomba import Roomba"
   ]
  },
  {
   "cell_type": "code",
   "execution_count": 31,
   "metadata": {
    "scrolled": true
   },
   "outputs": [
    {
     "data": {
      "image/png": "[encoded data removed]",
      "text/plain": [
       "<Figure size 864x432 with 1 Axes>"
      ]
     },
     "metadata": {
      "needs_background": "light"
     },
     "output_type": "display_data"
    }
   ],
   "source": [
    "# Inicialitzem un tauler aleatori\n",
    "H, W = 10,20\n",
    "r = Roomba(H, W)\n",
    "num_points = 10\n",
    "\n",
    "points = random.sample([(i,j) for i in range(H) for j in range(W)], num_points)\n",
    "origin = random.choice([(i,j) for i in range(H) for j in range(W)])\n",
    "while origin in points:\n",
    "    origin = random.choice([(i,j) for i in range(H) for j in range(W)])\n",
    "\n",
    "# Afegim els punts a netejar i l'orígen\n",
    "r.set_points(points)\n",
    "r.set_origin(origin)\n",
    "\n",
    "# Mostrem la graella\n",
    "r.show_board()"
   ]
  },
  {
   "cell_type": "markdown",
   "metadata": {},
   "source": [
    "## Distància de Manhattan\n",
    "La distància de manhattan ens permet trobar la distància entre dos punts d'una graella. A diferència de la <b>distància euclidiana</b> (blava), la <b>distància de manhattan</b> (vermella) no contempla la distància en línia recta sinó que té en compte la morfologia de la grella. D'aquesta forma ens dóna una distància real entre dos punts d'una ciutat quadriculada o del taulell del problema que volem resoldre."
   ]
  },
  {
   "cell_type": "markdown",
   "metadata": {},
   "source": [
    "<img src='https://static.packt-cdn.com/products/9781787121515/graphics/bd978c4c-8251-489d-bcda-5ce7b7b825dd.png' width='20%'>"
   ]
  },
  {
   "cell_type": "code",
   "execution_count": 92,
   "metadata": {},
   "outputs": [],
   "source": [
    "def manhattan_dist(point1, point2):\n",
    "    \"\"\"\n",
    "    Donats dos punts point1, point2, retorna la distància de manhattan\n",
    "    \n",
    "    Params\n",
    "    ======\n",
    "    :point1, point2: Dos punts amb el format point1=(a1,b1), point2=(a2,b2)\n",
    "    \n",
    "    Returns\n",
    "    =======\n",
    "    :dist: La distància de manhattan entre els dos punts. dist = |a1-a2| + |b1-b2|\n",
    "    \n",
    "    \"\"\"\n",
    "    a1, b1 = point1\n",
    "    a2, b2 = point2\n",
    "    return abs(a1-a2)+abs(b1-b2)"
   ]
  },
  {
   "cell_type": "code",
   "execution_count": 93,
   "metadata": {},
   "outputs": [],
   "source": [
    "def superior_bound(roomba):\n",
    "    \"\"\"\n",
    "    Retorna la cota superior inicial per al problema de la Roomba usant una estratègia greedy.\n",
    "    \n",
    "    Params\n",
    "    ======\n",
    "    :roomba: Un objecte de la classe Roomba. Podeu accedir a les variables roomba.points, roomba.origin, roomba.W, roomba.H\n",
    "    \n",
    "    Returns\n",
    "    =======\n",
    "    :sup: La cota superior incial per a aquest problema. \n",
    "    \"\"\"\n",
    "    #Inicialitzem la cota a zero, la llista de punts que resten per visitar amb tots els\n",
    "    #punts de la roomba i la posicio inicial amb l'origen de la roomba\n",
    "    sup = 0\n",
    "    posicio = roomba.origin\n",
    "    punts = roomba.points.copy()\n",
    "    #Mentres encara restin punts per visitar...\n",
    "    while len(punts) > 0:\n",
    "        #Calculem quin és el punt que està més a prop de la posició, recorrent-los tots\n",
    "        dist_min = H*W\n",
    "        punt_min = posicio\n",
    "        for punt in punts:\n",
    "            dist = manhattan_dist(posicio,punt)\n",
    "            if dist < dist_min:\n",
    "                punt_min = punt\n",
    "                dist_min = dist\n",
    "        #Un cop trobat, li sumem la distància a la cota superior i actualitzem la posició\n",
    "        #de la roomba i la llista de punts restants \n",
    "        sup += dist_min\n",
    "        posicio = punt_min\n",
    "        punts.remove(punt_min)\n",
    "    #Quan ja s'hagin visitat tots els punts, sumem a la cota la distància per tornar fins a\n",
    "    #l'origen i retornem el resultat final de la cota superior\n",
    "    sup += manhattan_dist(posicio,roomba.origin)\n",
    "    return sup\n",
    "\n",
    "def inferior_bound(roomba):\n",
    "    \"\"\"\n",
    "    Retorna la cota inferior inicial per al problema de la Roomba. Considereu que tots els punts estan el més aprop possible de la roomba i calculeu-ne el cost de visitar-los tots i tornar a la base de càrrega.\n",
    "    \n",
    "    Params\n",
    "    ======\n",
    "    :roomba: Un objecte de la classe Roomba. Podeu accedir a les variables roomba.points, roomba.origin, roomba.W, roomba.H\n",
    "    \n",
    "    Returns\n",
    "    =======\n",
    "    :inf: La cota inferior incial per a aquest problema. \n",
    "    \"\"\"\n",
    "    #Si tots els punts estiguéssin alineats, per anar d'un a l'altre cal fer un sol moviment,\n",
    "    #(*2 ja que cal anar i tornar al punt d'origen)\n",
    "    inf = len(roomba.points) * 2\n",
    "    return inf"
   ]
  },
  {
   "cell_type": "code",
   "execution_count": 94,
   "metadata": {},
   "outputs": [],
   "source": [
    "def solve_roomba(roomba):\n",
    "    \"\"\"\n",
    "    Soluciona el problema de trobar el camí mínim en una graella 2-Dimensional passant per un seguit de punts.\n",
    "    \n",
    "    Params\n",
    "    ======\n",
    "    :roomba: Un objecte de la classe Roomba\n",
    "    \n",
    "    Returns\n",
    "    =======\n",
    "    :expanded: Número de taulers que s'han expandit\n",
    "    :best_moves: La seqüència de moviments que ha de realitzar la roomba per visitar tots els punts amb el format [(0,0), (0,1), (0,2),...,(0,0)]\n",
    "    \"\"\"\n",
    "    #Inicialitzem les quotes superiors i inferiors, variables que guarden el nombre de taulers expandits,\n",
    "    #els millors moviments\n",
    "    sup_bound = superior_bound(roomba)\n",
    "    inf_bound = inferior_bound(roomba)    \n",
    "    expanded = 0\n",
    "    best_moves = []\n",
    "    #Cridem a la funció de backtracking que construeixi el millor camí possible \n",
    "    expanded, best_moves, sb = back_roomba(roomba, [roomba.origin], best_moves, 0, sup_bound, inf_bound, expanded)\n",
    "    #best_moves guarda l'ordre de les caselles que hem de visitar, pero no el recorregut que hem de fer\n",
    "    #per anar d'una a l'altre, així que ho implementem a continuació:\n",
    "    #Inicialitzem una llista amb el primer element de best_moves (l'origen)\n",
    "    total = [best_moves[0]]\n",
    "    #El bucles es fa  tantes vegades com cops haguem d'anar d'un punt a un alre\n",
    "    for i in range(len(best_moves)-1):\n",
    "        #Separem les coordenades dels punts \n",
    "        a1, b1 = best_moves[i]\n",
    "        a2, b2 = best_moves[i+1]\n",
    "        #Mentres no siguin iguals les files, sumem o restem una a a1 i afegim el punt a la llista\n",
    "        while a1 != a2:\n",
    "            if a1 < a2:\n",
    "                a1 += 1\n",
    "            else:\n",
    "                a1 -= 1\n",
    "            total.append((a1,b1))\n",
    "        #Fem el mateix per les columnes\n",
    "        while b1 != b2:\n",
    "            if b1 < b2:\n",
    "                b1 += 1\n",
    "            else:\n",
    "                b1 -= 1\n",
    "            total.append((a1,b1))\n",
    "    #Copiem el contingut de la llista a best_moves \n",
    "    best_moves = total.copy()\n",
    "    #Retornem el nombre de taulers que s'han expandit i quina és la millor seqüencia de moviments\n",
    "    return expanded, best_moves\n",
    "\n",
    "def back_roomba(roomba, path, best_moves, dist, sb, ib, exp):\n",
    "    #exp cpnta quants cops cridem la funció\n",
    "    exp += 1\n",
    "    #Si la cota superior ja és igual a la menor, ja ens trobem a la millor situació possible (si ja hem\n",
    "    #trobat almenys una)\n",
    "    if ib <= sb and best_moves:\n",
    "        return exp, best_moves, sb\n",
    "    #Guardem la posicio on ens trobem\n",
    "    posicio = path[-1]\n",
    "    #Si el nostre camí ja té tots els punts que ha de visitar\n",
    "    if len(path) == len(roomba.points)+1:\n",
    "        #Mateix cas que en el general, sent l'únic punt que queda l'origen ja que ha de tornar\n",
    "        dist_point = manhattan_dist(posicio, roomba.origin)\n",
    "        if sb >= (dist + dist_point):\n",
    "            sb = dist + dist_point\n",
    "            path += [roomba.origin]\n",
    "            #Fem una copia del ordre del camí\n",
    "            best_moves = path.copy()\n",
    "    else:\n",
    "        #Per cada punt que ha de visitar la roomba, si encara no està en el camí\n",
    "        for point in roomba.points:\n",
    "            if point not in path:\n",
    "                #Calculem la distància fins a ell\n",
    "                dist_point = manhattan_dist(posicio, point)\n",
    "                #Si aquesta distancia, sumada amb la que ja portem és menor a la cota superior, fem una crida recursiva a la funció\n",
    "                if sb > (dist + dist_point):\n",
    "                    exp, best_moves, sb = back_roomba(roomba, path + [point], best_moves, dist + dist_point, sb, ib, exp)\n",
    "    #Retornem les variables que necessitem que puguin canviar de valor en cada crida recursiva\n",
    "    return exp, best_moves, sb"
   ]
  },
  {
   "cell_type": "code",
   "execution_count": 95,
   "metadata": {},
   "outputs": [
    {
     "name": "stdout",
     "output_type": "stream",
     "text": [
      "7 [(0, 0), (0, 1), (0, 2), (1, 2), (1, 1), (2, 1), (2, 0), (1, 0), (0, 0)]\n"
     ]
    },
    {
     "data": {
      "image/png": "[encoded data removed]",
      "text/plain": [
       "<Figure size 288x288 with 1 Axes>"
      ]
     },
     "metadata": {
      "needs_background": "light"
     },
     "output_type": "display_data"
    }
   ],
   "source": [
    "H, W = 3,3\n",
    "r = Roomba(H, W)\n",
    "r.set_origin((0,0))\n",
    "r.set_points([(0,2),(1,1),(2,0)])\n",
    "expanded, path = solve_roomba(r)\n",
    "r.show_board(path=path)\n",
    "print(expanded, path)"
   ]
  },
  {
   "cell_type": "markdown",
   "metadata": {},
   "source": [
    "<div class=\"alert alert-info\">\n",
    "<center>\n",
    "  <h1>Entrega</h1>\n",
    "</center>\n",
    "\n",
    "<p>\n",
    "L'entrega es farà a través del campus virtual. Teniu fins el dia <b>30 de Desembre a les 23:55</b> per entregar la pràctica. A la tasca que obrirem al campus, <b>només heu d'entregar aquest fitxer .ipynb</b>. El notebook ha de tenir com a nom:\n",
    "</p>\n",
    "<p>\n",
    "    <code>L5_Grup_Cognom_Nom.ipynb</code>\n",
    "</p>\n",
    "    <br>\n",
    "On 'Grup' és una sola lletra que identifica el grup on esteu matriculats. Els grups disponibles són: A, B, C, F.\n",
    "\n",
    "És imprescindible que respecteu el format de les funcions i que el vostre codi estigui degudament comentat.<br><br>\n",
    "</div>"
   ]
  },
  {
   "cell_type": "code",
   "execution_count": null,
   "metadata": {},
   "outputs": [],
   "source": []
  }
 ],
 "metadata": {
  "kernelspec": {
   "display_name": "Python 3",
   "language": "python",
   "name": "python3"
  },
  "language_info": {
   "codemirror_mode": {
    "name": "ipython",
    "version": 3
   },
   "file_extension": ".py",
   "mimetype": "text/x-python",
   "name": "python",
   "nbconvert_exporter": "python",
   "pygments_lexer": "ipython3",
   "version": "3.8.8"
  }
 },
 "nbformat": 4,
 "nbformat_minor": 4
}
