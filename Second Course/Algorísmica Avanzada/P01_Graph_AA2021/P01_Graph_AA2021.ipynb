{
 "cells": [
  {
   "cell_type": "markdown",
   "metadata": {},
   "source": [
    "<div style=\"padding:30px; color: white; background-color: #0071CD\">\n",
    "    <center>\n",
    "        <img src=\"img/logoub.jpeg\">\n",
    "    <center>\n",
    "        <h1>Algorísmica Avançada 2021</h1>\n",
    "        <h2>Problemes 1 - Grafs no dirigits, complexitat</h2>\n",
    "    </center>\n",
    "</div>"
   ]
  },
  {
   "cell_type": "code",
   "execution_count": 34,
   "metadata": {},
   "outputs": [
    {
     "data": {
      "text/html": [
       "<style>.container { width:100% !important; }</style>"
      ],
      "text/plain": [
       "<IPython.core.display.HTML object>"
      ]
     },
     "metadata": {},
     "output_type": "display_data"
    }
   ],
   "source": [
    "from IPython.core.display import display, HTML\n",
    "display(HTML(\"<style>.container { width:100% !important; }</style>\"))"
   ]
  },
  {
   "cell_type": "markdown",
   "metadata": {},
   "source": [
    "## Anaconda"
   ]
  },
  {
   "cell_type": "markdown",
   "metadata": {},
   "source": [
    "Si encara no teniu Anaconda instal·lada, podeu descarregar l'instal·lador [AQUÍ](https://www.anaconda.com/products/individual).\n",
    "\n",
    "Un cop instal·lat, podeu obrir el programa __Anaconda Navigator__ per a gestionar els entorns (environments). Des d'aquí podreu crear-ne de nous i/o instal·lar llibreries noves a entorns existents. Us animem a crear un entorn dedicat per a l'assignatura.\n",
    "\n",
    "Des d'aquí també podreu executar __jupyter notebook__."
   ]
  },
  {
   "cell_type": "markdown",
   "metadata": {},
   "source": [
    "## Defaultdict"
   ]
  },
  {
   "cell_type": "markdown",
   "metadata": {},
   "source": [
    "La funció `defaultdict()` ens permet definir un diccionari que no ens retorna error si intentem accedir amb una clau que no existeix. En el cas que ho intentem, crearà una nova entrada amb un valor per defecte que haguem prefixat.\n",
    "\n",
    "Exemple:"
   ]
  },
  {
   "cell_type": "code",
   "execution_count": 35,
   "metadata": {},
   "outputs": [
    {
     "name": "stdout",
     "output_type": "stream",
     "text": [
      "Un diccionari usual de python: {3: 'Assignat'}\n",
      "Podem assignar elements com en un diccionari normal: defaultdict(<class 'int'>, {3: 'Assignat!'})\n",
      "Si provem de cridar-ho amb una clau inexistent... 0\n"
     ]
    }
   ],
   "source": [
    "from collections import defaultdict\n",
    "\n",
    "# Hem d'inicialitzar-ho amb una funció que es pugui cridar quan no es troba la clau. Per exemple, la funció \n",
    "# int() ens retornarà el valor 0.\n",
    "\n",
    "# Observeu que el paràmetre que li passem és una funció. En cas que li passem int(), ens retornarà error.\n",
    "dd = defaultdict(int)\n",
    "dd[3] = 'Assignat!'\n",
    "\n",
    "# Observeu que el tipus de diccionari no és 'dict'.\n",
    "print(f'Un diccionari usual de python:', {3: 'Assignat'})\n",
    "print(f'Podem assignar elements com en un diccionari normal: {dd}')\n",
    "print(f'Si provem de cridar-ho amb una clau inexistent... {dd[4]}')"
   ]
  },
  {
   "cell_type": "code",
   "execution_count": 36,
   "metadata": {},
   "outputs": [
    {
     "name": "stdout",
     "output_type": "stream",
     "text": [
      "No assignat\n",
      "No assignat en Python3\n"
     ]
    }
   ],
   "source": [
    "# Podem definir funcions d'inicialitazció\n",
    "def myfunc():\n",
    "    return 'No assignat'\n",
    "\n",
    "dd = defaultdict(myfunc)\n",
    "print(dd[0])\n",
    "\n",
    "# I de forma més breu, en sintaxi Python3 podem utilitzar 'lambda'\n",
    "# que ens permet definir 'funcions inline'\n",
    "dd = defaultdict(lambda: 'No assignat en Python3')\n",
    "print(dd[0])"
   ]
  },
  {
   "cell_type": "markdown",
   "metadata": {},
   "source": [
    "## Classes en Python \n",
    "\n",
    "Les classes en python tenen l'estructura següent:\n",
    "\n",
    "```python\n",
    "class MyClass:\n",
    "    # La funció init permet crear els objectes del tipus 'MyClass'. Rep com a primer paràmetre 'self' i\n",
    "    # pot rebre'n d'altres. Aquesta funció també defineix els atributs de la classe.\n",
    "    def __init__(self, ...):\n",
    "        self.atribut1 = ...\n",
    "        self.atribut2 = ...\n",
    "```\n",
    "\n",
    "Veiem-ne un exemple"
   ]
  },
  {
   "cell_type": "code",
   "execution_count": 37,
   "metadata": {},
   "outputs": [],
   "source": [
    "class Estudiant:\n",
    "    def __init__(self, nom, assignatura):\n",
    "        self.nom = nom\n",
    "        self.assignatura = assignatura\n",
    "        \n",
    "    # La funcio 'repr' ens permet definir què passa quan fem un print d'aquest objecte.\n",
    "    # En aquest cas, imprimim informació sobre l'estudiant i l'assignatura que cursa.\n",
    "    # Observa que hem d'accedir als atributs usant self\n",
    "    def __repr__(self):\n",
    "        return f\"L'estudiant {self.nom} cursa l'assignatura: {self.assignatura}\"\n",
    "    \n",
    "    # Totes les funcions que definim dins una classe han de tenir com a primer paràmetre 'self'\n",
    "    def canvi_assignatura(self, nova_assignatura):\n",
    "        self.assignatura = nova_assignatura"
   ]
  },
  {
   "cell_type": "code",
   "execution_count": 38,
   "metadata": {},
   "outputs": [
    {
     "name": "stdout",
     "output_type": "stream",
     "text": [
      "L'estudiant Miquel cursa l'assignatura: Algorísmica\n",
      "L'estudiant Miquel cursa l'assignatura: Algorísmica Avançada\n"
     ]
    }
   ],
   "source": [
    "est = Estudiant('Miquel', 'Algorísmica')\n",
    "print(est)\n",
    "est.canvi_assignatura('Algorísmica Avançada')\n",
    "print(est)"
   ]
  },
  {
   "cell_type": "markdown",
   "metadata": {},
   "source": [
    "## Starred expression"
   ]
  },
  {
   "cell_type": "markdown",
   "metadata": {},
   "source": [
    "Una funcionalitat molt útil de python que cal conèixer (si no l'heu vist encara).\n",
    "Definim una funció:"
   ]
  },
  {
   "cell_type": "code",
   "execution_count": 39,
   "metadata": {},
   "outputs": [
    {
     "name": "stdout",
     "output_type": "stream",
     "text": [
      "6\n"
     ]
    }
   ],
   "source": [
    "def suma(a,b):\n",
    "    return a+b\n",
    "\n",
    "# Podem cridar la funció passant dos paràmetres\n",
    "print(suma(2,4))"
   ]
  },
  {
   "cell_type": "markdown",
   "metadata": {},
   "source": [
    "Observeu que aquesta funció necessita dos paràmetres. Utilitzant el símbol `*` podem obtenir el mateix resultat passant una sola llista."
   ]
  },
  {
   "cell_type": "code",
   "execution_count": 40,
   "metadata": {},
   "outputs": [
    {
     "data": {
      "text/plain": [
       "6"
      ]
     },
     "execution_count": 40,
     "metadata": {},
     "output_type": "execute_result"
    }
   ],
   "source": [
    "suma(*[2,4])"
   ]
  },
  {
   "cell_type": "markdown",
   "metadata": {},
   "source": [
    "L'operador * extreu els elements d'una col·lecció i els passa com a paràmetres separats.\n",
    "\n",
    "Podem fer el mateix al definir la funció:"
   ]
  },
  {
   "cell_type": "code",
   "execution_count": 41,
   "metadata": {},
   "outputs": [
    {
     "data": {
      "text/plain": [
       "15"
      ]
     },
     "execution_count": 41,
     "metadata": {},
     "output_type": "execute_result"
    }
   ],
   "source": [
    "def suma2(*valors):\n",
    "    return sum(valors)\n",
    "\n",
    "suma2(1,2,3,4,5)"
   ]
  },
  {
   "cell_type": "markdown",
   "metadata": {},
   "source": [
    "Aquesta funció, pot rebre ara qualsevol nombre de paràmetres. `valors` es converteix en una llista d'elements i la funció `sum` en retornarà la suma."
   ]
  },
  {
   "cell_type": "markdown",
   "metadata": {},
   "source": [
    "## La funció `zip()`"
   ]
  },
  {
   "cell_type": "markdown",
   "metadata": {},
   "source": [
    "La funció `zip()` ens permet combinar múltiples llistes en una de sola o fer la operació inversa. A l'executar la funció zip ens retornarà un objecte de tipus zip que podem convertir a una altre estructura de dades passant-li com a argument. Observa els exemples següents:"
   ]
  },
  {
   "cell_type": "code",
   "execution_count": 42,
   "metadata": {},
   "outputs": [],
   "source": [
    "llista1 = [2,4,6,8,10]\n",
    "llista2 = ['A','B','C','D','E']\n",
    "llista3 = [1,2,3]\n",
    "llista4 = [('A', 1), ('B', 2), ('C', 3), ('D', 4)]"
   ]
  },
  {
   "cell_type": "code",
   "execution_count": 43,
   "metadata": {},
   "outputs": [
    {
     "name": "stdout",
     "output_type": "stream",
     "text": [
      "<zip object at 0x000001AB4D90B4C8>\n"
     ]
    }
   ],
   "source": [
    "# Observa que a l'executar zip ens retorna un objecte de tipus zip\n",
    "print(zip(llista1, llista2))"
   ]
  },
  {
   "cell_type": "code",
   "execution_count": 44,
   "metadata": {},
   "outputs": [
    {
     "name": "stdout",
     "output_type": "stream",
     "text": [
      "[(2, 'A'), (4, 'B'), (6, 'C'), (8, 'D'), (10, 'E')]\n",
      "{2: 'A', 4: 'B', 6: 'C', 8: 'D', 10: 'E'}\n"
     ]
    }
   ],
   "source": [
    "# El podem convertir en una llista cridant 'list' o a un diccionari cridant 'dict'\n",
    "print(list(zip(llista1, llista2)))\n",
    "print(dict(zip(llista1, llista2)))"
   ]
  },
  {
   "cell_type": "code",
   "execution_count": 45,
   "metadata": {},
   "outputs": [
    {
     "name": "stdout",
     "output_type": "stream",
     "text": [
      "[('A', 1), ('B', 2), ('C', 3)]\n"
     ]
    }
   ],
   "source": [
    "# Si les dimensions no coincideixen, es redueix a la llista més curta\n",
    "print(list(zip(llista2, llista3)))"
   ]
  },
  {
   "cell_type": "code",
   "execution_count": 46,
   "metadata": {},
   "outputs": [
    {
     "name": "stdout",
     "output_type": "stream",
     "text": [
      "('A', 'B', 'C', 'D')\n",
      "(1, 2, 3, 4)\n"
     ]
    }
   ],
   "source": [
    "# Podem fer la operació inversa, és a dir, extreure d'una llista de parelles dues llistes, usant \n",
    "# zip i starred expression alhora\n",
    "lst1, lst2 = zip(*llista4)\n",
    "print(lst1)\n",
    "print(lst2)"
   ]
  },
  {
   "cell_type": "markdown",
   "metadata": {},
   "source": [
    "__Alerta:__ La funció `zip` retorna un generador. Un cop esgotat, un generador quedarà buit. Observa què passa si fem:"
   ]
  },
  {
   "cell_type": "code",
   "execution_count": 47,
   "metadata": {},
   "outputs": [
    {
     "name": "stdout",
     "output_type": "stream",
     "text": [
      "[(2, 'A'), (4, 'B'), (6, 'C'), (8, 'D'), (10, 'E')]\n",
      "{}\n"
     ]
    }
   ],
   "source": [
    "llista1 = [2,4,6,8,10]\n",
    "llista2 = ['A','B','C','D','E']\n",
    "\n",
    "z = zip(llista1, llista2)\n",
    "\n",
    "# Esgotem el generador, llegint-ne tots els elements\n",
    "print(list(z))\n",
    "\n",
    "# El generador està buit, per tant el diccionari també ho estarà\n",
    "print(dict(z))"
   ]
  },
  {
   "cell_type": "markdown",
   "metadata": {},
   "source": [
    "## DFS: Depth First Search"
   ]
  },
  {
   "cell_type": "markdown",
   "metadata": {},
   "source": [
    "L'algorisme __DFS__ (_Depth First Search_ o Cerca en profunditat) ens permet recórrer un graf de forma exhaustiva, és a dir, visitant tots els nodes, sempre i quan el graf estigui totalment connectat i sigui un graf no dirigit.\n",
    "\n",
    "Com el seu nom indica, aquest algorisme prioritza la cerca en profunditat, és a dir, explorarà un sol veí de cada node per intentar arribar el més lluny possible.\n",
    "Existeixen diferents ordres generats per l'algorisme DFS, els més comuns són:\n",
    "- __Preordre__: En cas que no indiquem cap recorregut concret, aquest és el recorregut per defecte. Es visiten els nodes a mesura que ens els anem trobant en el recorregut.\n",
    "- __Postordre__: Es visiten els nodes quan ja hem arribat al final del recorregut i estem recorrent el camí de tornada.\n",
    "\n",
    "En general sempre farem servir __preordre__ a no ser que s'indiqui el contrari."
   ]
  },
  {
   "cell_type": "code",
   "execution_count": 15,
   "metadata": {},
   "outputs": [
    {
     "name": "stdout",
     "output_type": "stream",
     "text": [
      "Preordre. Node inicial: 7\n",
      "DFS: [7, 6, 5, 1, 8, 4, 3, 2, 9]\n",
      "\n",
      "Postordre. Node inicial: 7\n",
      "DFS: [1, 5, 6, 2, 9, 3, 4, 8, 7]\n"
     ]
    },
    {
     "data": {
      "image/png": "[encoded data removed]",
      "text/plain": [
       "<Figure size 432x288 with 1 Axes>"
      ]
     },
     "metadata": {},
     "output_type": "display_data"
    }
   ],
   "source": [
    "import networkx as nx\n",
    "G = nx.Graph()\n",
    "G.add_edges_from([(2,3),(3,4),(1,5),(5,6),(6,7),(7,8),(4,8),(1,6),(2,8),(3,9)])\n",
    "nx.draw(G, pos=nx.kamada_kawai_layout(G), with_labels=True)\n",
    "\n",
    "print('Preordre. Node inicial: 7\\nDFS:', list(nx.networkx.algorithms.traversal.depth_first_search.dfs_preorder_nodes(G, 7)))\n",
    "print()\n",
    "print('Postordre. Node inicial: 7\\nDFS:', list(nx.networkx.algorithms.traversal.depth_first_search.dfs_postorder_nodes(G, 7)))"
   ]
  },
  {
   "cell_type": "markdown",
   "metadata": {},
   "source": [
    "## Representació de grafs. Construcció d'un graf no dirigit des de zero"
   ]
  },
  {
   "cell_type": "markdown",
   "metadata": {},
   "source": [
    "### Llista d'adjacència"
   ]
  },
  {
   "cell_type": "markdown",
   "metadata": {},
   "source": [
    "Podem representar un graf utilitzant una llista d'adjacència. Cada node conté una llista de totes les connexions que té. Un exemple:"
   ]
  },
  {
   "cell_type": "code",
   "execution_count": 16,
   "metadata": {},
   "outputs": [
    {
     "data": {
      "image/png": "[encoded data removed]",
      "text/plain": [
       "<Figure size 432x288 with 1 Axes>"
      ]
     },
     "metadata": {},
     "output_type": "display_data"
    }
   ],
   "source": [
    "import networkx as nx\n",
    "G = nx.Graph()\n",
    "G.add_edges_from([(1,2),(2,3),(3,4),(1,5),(5,6),(6,7),(7,8),(4,8),(1,6),(2,8)])\n",
    "nx.draw(G, pos=nx.kamada_kawai_layout(G), with_labels=True)"
   ]
  },
  {
   "cell_type": "markdown",
   "metadata": {},
   "source": [
    "Quina és la llista d'adjacència que representa aquest graf? \n",
    "Per construir-la, hem d'apuntar tots els veïns de cada node.\n",
    "\n",
    "$$\\begin{aligned}\n",
    "1&\\longrightarrow [2,5,6]\\\\\n",
    "2&\\longrightarrow [1,3,8]\\\\\n",
    "3&\\longrightarrow [2,4]\\\\\n",
    "4&\\longrightarrow [3,8]\\\\\n",
    "5&\\longrightarrow [1,6]\\\\\n",
    "6&\\longrightarrow [1,5,7]\\\\\n",
    "7&\\longrightarrow [6,8]\\\\\n",
    "8&\\longrightarrow [2,4,7]\\\\\n",
    "\\end{aligned}$$"
   ]
  },
  {
   "cell_type": "markdown",
   "metadata": {},
   "source": [
    "Definim una classe que ens permeti construir grafs usant la llista d'adjacència"
   ]
  },
  {
   "cell_type": "markdown",
   "metadata": {},
   "source": [
    "<div class=\"alert alert-success\">\n",
    "<p>Implementeu les funcions:\n",
    "    <ol><li> <b>add_edge</b>: Donats dos nodes, crea una aresta entre ells.\n",
    "        <li> <b>has_edge</b>: Donats dos nodes, comprova si existeix una aresta que els connecta.\n",
    "    </ol></p>    \n",
    "    \n",
    "</div>"
   ]
  },
  {
   "cell_type": "code",
   "execution_count": 56,
   "metadata": {},
   "outputs": [],
   "source": [
    "class AdjListGraph:\n",
    "    def __init__(self):\n",
    "        # Usem un defaultdict i inicialitzem a un conjunt.\n",
    "        # D'aquesta forma evitem tenir repeticions.\n",
    "        # Cada clau del diccionari 'adj' tindrà per defecte un conjunt buit\n",
    "        self.adj = defaultdict(set)\n",
    "    \n",
    "    def __repr__(self):\n",
    "        # Al fer print del graf, es mostraran els nodes i les arestes\n",
    "        return f'G(nodes={self.nodes()}, edges={self.edges()})'\n",
    "        \n",
    "    def nodes(self):\n",
    "        # Els nodes són les claus del diccionari 'adj'\n",
    "        return list(self.adj.keys())\n",
    "    \n",
    "    def edges(self):       \n",
    "        # Les arestes son totes les parelles formades per una clau i un element del conjunt\n",
    "        return [(k,v) for k,nei in self.adj.items() for v in nei]        \n",
    "            \n",
    "    def add_node(self, node):\n",
    "        # Afegim un node\n",
    "        if node not in self.adj:\n",
    "            self.adj[node] = set()   \n",
    "    \n",
    "    def add_edge(self, node1, node2):\n",
    "        # EL TEU CODÍ AQUÍ\n",
    "        pass\n",
    "    \n",
    "    def has_edge(self, node1, node2):\n",
    "        # EL TEU CODI AQUÍ\n",
    "        pass\n",
    "    \n",
    "    def add_nodes_from(self, node_list):\n",
    "        # Afegim nodes des d'una llista\n",
    "        for n in node_list:\n",
    "            self.add_node(n)\n",
    "    \n",
    "    def add_edges_from(self, edge_list):\n",
    "        # Afegim arestes des d'una llista.\n",
    "        # Observa que 'e' es una parella de índexs. Utilitzem l'starred expression per \n",
    "        # transformar 'e' en dos paràmetres per a la funció 'add_edge'\n",
    "        for e in edge_list:\n",
    "            self.add_edge(*e)\n",
    "            \n",
    "    def draw(self, ax=None):\n",
    "        # Mostrem el graf usant networkx\n",
    "        nx.draw(nx.Graph([(i,j) for i in self.adj.keys() for j in self.adj[i]]), ax=ax, with_labels=True)\n",
    "            \n",
    "    def dfs(self, visited, current_node, display=True):\n",
    "        # Versió recursiva del DFS.\n",
    "        if current_node not in visited:\n",
    "            if display:\n",
    "                print(current_node, end=' ')\n",
    "            visited.add(current_node)\n",
    "            \n",
    "            # Per a cada veí del node actual, cridem de nou a la funció DFS per seguir visitant\n",
    "            for nei in self.adj[current_node]:\n",
    "                self.dfs(visited, nei, display=display)\n",
    "        "
   ]
  },
  {
   "cell_type": "code",
   "execution_count": 59,
   "metadata": {},
   "outputs": [
    {
     "name": "stdout",
     "output_type": "stream",
     "text": [
      "Nodes del graph: [1, 2, 3, 4, 5, 6, 7, 8]\n",
      "Arestes del graph: [(1, 2), (1, 5), (1, 6), (2, 8), (2, 1), (2, 3), (3, 2), (3, 4), (4, 8), (4, 3), (5, 1), (5, 6), (6, 1), (6, 5), (6, 7), (7, 8), (7, 6), (8, 2), (8, 4), (8, 7)]\n",
      "DFS: 7 8 2 1 5 6 3 4 "
     ]
    },
    {
     "data": {
      "image/png": "[encoded data removed]",
      "text/plain": [
       "<Figure size 432x288 with 1 Axes>"
      ]
     },
     "metadata": {},
     "output_type": "display_data"
    }
   ],
   "source": [
    "g = AdjListGraph()\n",
    "g.add_edges_from([(1,2),(2,3),(3,4),(1,5),(5,6),(6,7),(7,8),(4,8),(1,6),(2,8)])\n",
    "\n",
    "print(f\"Nodes del graph: {g.nodes()}\")\n",
    "print(f\"Arestes del graph: {g.edges()}\")\n",
    "\n",
    "print('DFS:', end=' ')\n",
    "g.dfs(set(), 7)\n",
    "\n",
    "g.draw()"
   ]
  },
  {
   "cell_type": "markdown",
   "metadata": {},
   "source": [
    "### Matriu d'adjacència"
   ]
  },
  {
   "cell_type": "code",
   "execution_count": 19,
   "metadata": {},
   "outputs": [
    {
     "data": {
      "image/png": "[encoded data removed]",
      "text/plain": [
       "<Figure size 432x288 with 1 Axes>"
      ]
     },
     "metadata": {},
     "output_type": "display_data"
    }
   ],
   "source": [
    "import networkx as nx\n",
    "G = nx.Graph()\n",
    "G.add_edges_from([(1,2),(2,3),(3,4),(1,5),(5,6),(6,7),(7,8),(4,8),(1,6),(2,8)])\n",
    "nx.draw(G, pos=nx.kamada_kawai_layout(G), with_labels=True)"
   ]
  },
  {
   "cell_type": "markdown",
   "metadata": {},
   "source": [
    "En el cas de la representació usant una matriu d'adjacències, hem de crear una matriu de tamany $|N|\\times |N|$ on $N$ és la llista de nodes del Graph. Per a cada posició de la matriu $M$:<br><br>\n",
    "$$M(i,j) = \\begin{cases} 1 \\ \\ \\ \\ \\text{ si existeix una aresta que connecta } i \\text{ amb } j \\\\\n",
    " 0 \\ \\ \\ \\ \\text{ si no hi ha aresta de } i \\text{ a } j \n",
    "\\end{cases}$$\n",
    "\n",
    "La matriu d'adjacència del graf anterior és:\n",
    "$$\n",
    "\\begin{array}{c|cccccccc}\n",
    "{} & 1 & 2 & 3 & 4 & 5 & 6 & 7 & 8\\\\\n",
    "\\hline\n",
    "1 & 0 & 1 & 0 & 0 & 1 & 1 & 0 & 0\\\\\n",
    "2 & 1 & 0 & 1 & 0 & 0 & 0 & 0 & 1\\\\\n",
    "3 & 0 & 1 & 0 & 1 & 0 & 0 & 0 & 0\\\\\n",
    "4 & 0 & 0 & 1 & 0 & 0 & 0 & 0 & 1\\\\\n",
    "5 & 1 & 0 & 0 & 0 & 0 & 1 & 0 & 0\\\\\n",
    "6 & 1 & 0 & 0 & 0 & 1 & 0 & 1 & 0\\\\\n",
    "7 & 0 & 0 & 0 & 0 & 0 & 1 & 0 & 1\\\\\n",
    "8 & 0 & 1 & 0 & 1 & 0 & 0 & 1 & 0\\\\\n",
    "\\end{array}\n",
    "$$\n",
    "\n",
    "Observeu que, al ser un graf no dirigit, la matriu que en resulta és simètrica. Sempre que existeixi l'aresta $(i,j)$ existirà també l'aresta $(j,i)$."
   ]
  },
  {
   "cell_type": "markdown",
   "metadata": {},
   "source": [
    "<div class=\"alert alert-success\">\n",
    "<p>Implementeu les funcions:\n",
    "    <ol><li> <b>add_edge</b>: Donats dos nodes, crea una aresta entre ells.\n",
    "        <li> <b>has_edge</b>: Donats dos nodes, comprova si existeix una aresta que els connecta.\n",
    "    </ol></p>    \n",
    "    \n",
    "</div>"
   ]
  },
  {
   "cell_type": "code",
   "execution_count": 60,
   "metadata": {},
   "outputs": [],
   "source": [
    "import numpy as np\n",
    "class AdjMatrixGraph:\n",
    "    def __init__(self, nodes):        \n",
    "        # Inicialitzem una matriu buida\n",
    "        self.matrix = [[0 for _ in nodes] for _ in nodes]\n",
    "        # Assignem a cada node un valor enter que usarem per accedir a la matriu\n",
    "        self.n2p = dict(zip(nodes, range(len(nodes))))\n",
    "    \n",
    "    def __repr__(self):\n",
    "        # Al fer print del graf, es mostraran els nodes i la matriu d'adjacència.\n",
    "        return f\"Nodes: {list(self.n2p.keys())}\\nMatriu d'adjacència:\\n{np.array(self.matrix)}\"\n",
    "                        \n",
    "    def nodes(self):\n",
    "        # Els nodes són les claus del diccionari 'n2p'.\n",
    "        return list(self.n2p.keys())\n",
    "    \n",
    "    def edges(self):\n",
    "        return [(k1,k2) for k1,v1 in self.n2p.items() for k2, v2 in self.n2p.items() if self.matrix[v1][v2]==1]\n",
    "        \n",
    "    def add_edge(self, node1, node2):\n",
    "        # EL TEU CODI AQUÍ\n",
    "        pass\n",
    "    \n",
    "    def has_edge(self, node1, node2):\n",
    "        # EL TEU CODI AQUÍ\n",
    "        pass\n",
    "        \n",
    "    def add_edges_from(self, edge_list):\n",
    "        # Afegim arestes des d'una llista.\n",
    "        # Observa que 'e' es una parella de índexs. Utilitzem l'starred expression per \n",
    "        # transformar 'e' en dos paràmetres per a la funció 'add_edge'\n",
    "        for e in edge_list:\n",
    "            self.add_edge(*e)\n",
    "    \n",
    "    def draw(self, ax=None):\n",
    "        # Mostrem el graf usant networkx\n",
    "        nx.draw(nx.Graph(self.edges()), ax=ax, with_labels=True)\n",
    "            \n",
    "    def dfs(self, visited, current_node, display=True):\n",
    "        # Versió recursiva del DFS\n",
    "        if current_node not in visited:\n",
    "            if display:\n",
    "                print(current_node, end=' ')\n",
    "            visited.add(current_node)\n",
    "            \n",
    "            # Recorrem tots els nodes del graf\n",
    "            for nei in self.nodes():\n",
    "                \n",
    "                # Si el node actual està connectat amb un altre node, seguim visitant-lo cridant a DFS.\n",
    "                if self.matrix[self.n2p[current_node]][self.n2p[nei]]==1:\n",
    "                    self.dfs(visited, nei, display=display)        "
   ]
  },
  {
   "cell_type": "code",
   "execution_count": 62,
   "metadata": {},
   "outputs": [
    {
     "name": "stdout",
     "output_type": "stream",
     "text": [
      "Nodes: [1, 2, 3, 4, 5, 6, 7, 8]\n",
      "Matriu d'adjacència:\n",
      "[[0 1 0 0 1 1 0 0]\n",
      " [1 0 1 0 0 0 0 1]\n",
      " [0 1 0 1 0 0 0 0]\n",
      " [0 0 1 0 0 0 0 1]\n",
      " [1 0 0 0 0 1 0 0]\n",
      " [1 0 0 0 1 0 1 0]\n",
      " [0 0 0 0 0 1 0 1]\n",
      " [0 1 0 1 0 0 1 0]]\n",
      "DFS: 7 6 1 2 3 4 8 5 "
     ]
    },
    {
     "data": {
      "image/png": "[encoded data removed]",
      "text/plain": [
       "<Figure size 432x288 with 1 Axes>"
      ]
     },
     "metadata": {},
     "output_type": "display_data"
    }
   ],
   "source": [
    "g = AdjMatrixGraph([1,2,3,4,5,6,7,8])\n",
    "g.add_edges_from([(1,2),(2,3),(3,4),(1,5),(5,6),(6,7),(7,8),(4,8),(1,6),(2,8)])\n",
    "print(g)\n",
    "print(\"DFS:\", end=\" \")\n",
    "g.dfs(set(), 7)\n",
    "\n",
    "g.draw()"
   ]
  },
  {
   "cell_type": "code",
   "execution_count": 21,
   "metadata": {},
   "outputs": [
    {
     "name": "stdout",
     "output_type": "stream",
     "text": [
      "Nodes: [1, 2, 3, 4, 5, 6, 7, 8]\n",
      "Matriu d'adjacència:\n",
      "[[0 1 0 0 1 1 0 0]\n",
      " [1 0 1 0 0 0 0 1]\n",
      " [0 1 0 1 0 0 0 0]\n",
      " [0 0 1 0 0 0 0 1]\n",
      " [1 0 0 0 0 1 0 0]\n",
      " [1 0 0 0 1 0 1 0]\n",
      " [0 0 0 0 0 1 0 1]\n",
      " [0 1 0 1 0 0 1 0]]\n",
      "DFS: 7 6 1 2 3 4 8 5 "
     ]
    },
    {
     "data": {
      "image/png": "[encoded data removed]",
      "text/plain": [
       "<Figure size 432x288 with 1 Axes>"
      ]
     },
     "metadata": {},
     "output_type": "display_data"
    }
   ],
   "source": [
    "g = AdjMatrixGraph([(1,2),(2,3),(3,4),(1,5),(5,6),(6,7),(7,8),(4,8),(1,6),(2,8)])\n",
    "print(g)\n",
    "print(\"DFS:\", end=\" \")\n",
    "g.dfs(set(), 7)\n",
    "\n",
    "g.draw()"
   ]
  },
  {
   "cell_type": "markdown",
   "metadata": {},
   "source": [
    "La funció `timeit` al començament d'una cel·la ens permet saber el temps d'execució d'un fragment de codi, observa:"
   ]
  },
  {
   "cell_type": "code",
   "execution_count": 22,
   "metadata": {},
   "outputs": [
    {
     "name": "stdout",
     "output_type": "stream",
     "text": [
      "48.1 µs ± 3.35 µs per loop (mean ± std. dev. of 7 runs, 10000 loops each)\n"
     ]
    }
   ],
   "source": [
    "%%timeit\n",
    "for i in range(1000):\n",
    "    continue"
   ]
  },
  {
   "cell_type": "markdown",
   "metadata": {},
   "source": [
    "<div class=\"alert alert-success\">\n",
    "<h1>Problema 1</h1>\n",
    "<p>Crea un graf utilitzant les dues estructres (llista i matriu) que tingui com a nodes: 0,...,20. <br>\n",
    "    Crea arestes de forma que el graf resultant sigui un cercle (cada node amb dues conexions). <br>\n",
    "    Visualitza el graf.</p>    \n",
    "    \n",
    "</div>"
   ]
  },
  {
   "cell_type": "code",
   "execution_count": 1,
   "metadata": {},
   "outputs": [],
   "source": [
    "# EL TEU CODI AQUÍ"
   ]
  },
  {
   "cell_type": "markdown",
   "metadata": {},
   "source": [
    "<div class=\"alert alert-success\">\n",
    "<h1>Problema 2</h1>\n",
    "<p>\n",
    "    Raoneu la resposta a les preguntes següents. Doneu la resposta en funció de $N$ (nombre de nodes) i de $E$ (nombre d'arestes).<br>\n",
    "    <ol>\n",
    "    <li><strong>Quina de les dues implementacions anteriors ocupa més espai en memòria? Quanta memòria ocupa cada una? <strong>\n",
    "    <li><strong>Quin és el cost d'afegir un nou vèrtex?<strong>\n",
    "    <li><strong>Quin és el cost d'afegir una nova aresta?<strong>\n",
    "    <li><strong>Quin és el cost d'eliminar un vèrtex?<strong>  \n",
    "    <li><strong>Quin és el cost d'eliminar una aresta?<strong>        \n",
    "    <li><strong>Quin és el cost d'esbrinar si una aresta $(i,j)$, on $i,j$ són dos nodes del graf, existeix?<strong>   \n",
    "    <li><strong>Quines diferències hi ha entre els dos DFS? Quina és la complexitat de cada un?<strong>   \n",
    "    </ol>\n",
    "        \n",
    "     \n",
    "</p>    \n",
    "    \n",
    "</div>"
   ]
  },
  {
   "cell_type": "markdown",
   "metadata": {},
   "source": [
    "<div class=\"alert alert-warning\">\n",
    "<h1>Respostes</h1>\n",
    "<ol>\n",
    "    <li>\n",
    "    <li>\n",
    "    <li>\n",
    "    <li>\n",
    "    <li>\n",
    "    <li>\n",
    "    <li>\n",
    "    </ol>\n",
    "    \n",
    "</div>"
   ]
  },
  {
   "cell_type": "markdown",
   "metadata": {},
   "source": [
    "<div class=\"alert alert-success\">\n",
    "<h1>Problema 3</h1>\n",
    "<p>Crea un graf amb dues components connexes, és a dir, un graf on hi hagi dos grups de nodes connectats entre si però sense cap connexió entre els dos grups. <br>\n",
    "    Què passa quan executes el DFS? <br>\n",
    "    Té el mateix efecte en les dues implementacions? <br>\n",
    "    Com ho hauríem de fer per mostrar tots els nodes?\n",
    "</p>    \n",
    "    \n",
    "</div>"
   ]
  },
  {
   "cell_type": "code",
   "execution_count": null,
   "metadata": {},
   "outputs": [],
   "source": [
    "# EL TEU CODI AQUÍ"
   ]
  },
  {
   "cell_type": "markdown",
   "metadata": {},
   "source": [
    "<div class=\"alert alert-success\">\n",
    "<h1>Problema 4</h1>\n",
    "    <p>Utilitzeu la funció d'inici de cel·la de jupyter <b>%%timeit</b> explicada anteriorment, per a comparar el DFS dels grafs creats al Problema 1. Useu el paràmetre <b>display=False</b> per a que no imprimeixi el recorregut múltiples cops. Quin DFS és més ràpid?<br>\n",
    "</p>    \n",
    "    \n",
    "</div>"
   ]
  },
  {
   "cell_type": "code",
   "execution_count": 2,
   "metadata": {},
   "outputs": [],
   "source": [
    "# EL TEU CODI AQUÍ"
   ]
  }
 ],
 "metadata": {
  "kernelspec": {
   "display_name": "Python 3",
   "language": "python",
   "name": "python3"
  },
  "language_info": {
   "codemirror_mode": {
    "name": "ipython",
    "version": 3
   },
   "file_extension": ".py",
   "mimetype": "text/x-python",
   "name": "python",
   "nbconvert_exporter": "python",
   "pygments_lexer": "ipython3",
   "version": "3.7.6"
  }
 },
 "nbformat": 4,
 "nbformat_minor": 4
}
